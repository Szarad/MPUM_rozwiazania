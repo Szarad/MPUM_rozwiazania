{
 "cells": [
  {
   "cell_type": "code",
   "execution_count": 30,
   "metadata": {},
   "outputs": [
    {
     "name": "stdout",
     "output_type": "stream",
     "text": [
      "Collecting sympy\n",
      "Collecting mpmath>=0.19 (from sympy)\n",
      "Installing collected packages: mpmath, sympy\n",
      "Successfully installed mpmath-1.0.0 sympy-1.1.1\n"
     ]
    }
   ],
   "source": [
    "import sys\n",
    "!{sys.executable} -m pip install sympy\n",
    "import sympy"
   ]
  },
  {
   "cell_type": "code",
   "execution_count": 4,
   "metadata": {},
   "outputs": [
    {
     "data": {
      "image/png": "[encoded data removed]",
      "text/plain": [
       "<Figure size 576x432 with 1 Axes>"
      ]
     },
     "metadata": {},
     "output_type": "display_data"
    },
    {
     "name": "stdout",
     "output_type": "stream",
     "text": [
      "[[  2.36695311e-01   3.48372044e-16]\n",
      " [  3.48372044e-16   4.12807652e+00]]\n",
      "Matrix([[0.236695311098700, 0], [0, 4.12807651935402]])\n",
      "Matrix([[2.05544174529956, zoo], [zoo, 0.492182457659266]])\n"
     ]
    }
   ],
   "source": [
    "from sklearn.datasets import load_iris\n",
    "from sklearn.datasets import load_breast_cancer\n",
    "from sklearn import decomposition\n",
    "from sympy import *\n",
    "import matplotlib.pyplot as plt\n",
    "import numpy as np\n",
    "from sklearn.preprocessing import StandardScaler\n",
    "from numpy.linalg import inv\n",
    "import numpy as np\n",
    "from scipy import linalg\n",
    "from numpy.linalg import inv\n",
    "#from sympy import *\n",
    "\n",
    "iris = load_iris()\n",
    "X = iris.data\n",
    "y = iris.target\n",
    "pca = decomposition.PCA(n_components=2)\n",
    "pca.fit(X)\n",
    "X = pca.transform(X)\n",
    "target_names = iris.target_names\n",
    "mean_iris = X.mean(axis=0)\n",
    "colors = ['navy', 'turquoise', 'darkorange']\n",
    " #fig, ax = plt.subplots()\n",
    "\n",
    "\n",
    "with plt.style.context('seaborn-whitegrid'):\n",
    "    plt.figure(figsize=(8, 6))\n",
    "    for color, i, target_name in zip(colors, [0, 1, 2], target_names):\n",
    "    #print(i)\n",
    "        data = plt.scatter(X[y == i, 0], X[y == i, 1], color=color, \n",
    "            label=target_name)\n",
    "    circle=plt.Circle(mean_iris, 1, color='g', fill=False)\n",
    "    ax=plt.gca()\n",
    "    ax.add_patch(circle)\n",
    "    plt.axis([-4, 4, -4, 4])\n",
    "    #plt.axis(-3,4,-3,4)\n",
    "    plt.tight_layout()\n",
    "    plt.show()\n",
    "\n",
    "#X_std = StandardScaler().fit_transform(X)\n",
    "#X_trans = pca.transform(X_std)\n",
    "#target_names = iris.target_names\n",
    "#print(X_trans)\n",
    "cov_mat = np.cov(X.T)\n",
    "cov_mat2 = inv(cov_mat)\n",
    "print(cov_mat2)\n",
    "M = Matrix(cov_mat2)\n",
    "P, D = M.diagonalize()\n",
    "print(D)\n",
    "for i in range(2):\n",
    "    for j in range(2):\n",
    "        D[i,j]=1/sqrt(D[i,j])\n",
    "        \n",
    "print(D)\n",
    "#print(linalg.sqrtm(D))    \n",
    "#np.dot(P,1/sqrt(D))\n",
    "#print(inv(np.matrix(D)))\n",
    "#print(np.linalg.inv(D))\n"
   ]
  },
  {
   "cell_type": "code",
   "execution_count": 7,
   "metadata": {},
   "outputs": [
    {
     "name": "stdout",
     "output_type": "stream",
     "text": [
      "{'bandwidth': 0.10000000000000001}\n"
     ]
    }
   ],
   "source": [
    "from sklearn.grid_search import GridSearchCV\n",
    "from sklearn.neighbors import KernelDensity\n",
    "s = np.random.normal(0, 0.1, 1000)\n",
    "grid = GridSearchCV(KernelDensity(),\n",
    "                    {'bandwidth': np.linspace(0.1, 1.0, 30)},\n",
    "                    cv=5) \n",
    "\n",
    "grid.fit(s[:, None])\n",
    "print(grid.best_params_)"
   ]
  },
  {
   "cell_type": "code",
   "execution_count": 2,
   "metadata": {},
   "outputs": [
    {
     "name": "stdout",
     "output_type": "stream",
     "text": [
      "{'bandwidth': 0.25517241379310346}\n"
     ]
    },
    {
     "data": {
      "text/plain": [
       "[<matplotlib.lines.Line2D at 0x7feaef7dfb70>]"
      ]
     },
     "execution_count": 2,
     "metadata": {},
     "output_type": "execute_result"
    }
   ],
   "source": [
    "from sklearn.grid_search import GridSearchCV\n",
    "import numpy as np\n",
    "from sklearn.neighbors import KernelDensity\n",
    "import matplotlib.pyplot as plt\n",
    "from scipy import stats\n",
    "\n",
    "xgrid = np.linspace(-4.5, 3.5, 1000)\n",
    "\n",
    "gaussian1 = 0.5 * np.random.normal(-2, 1,100)\n",
    "gaussian2 = 0.5 * np.random.normal(2,1,100)\n",
    "\n",
    "x = gaussian1 + gaussian2\n",
    "#truepdf = 0.5*scipy.stats.norm(-2,1,100).pdf(xgrid) + 0.5*scipy.stats.norm(2,1,100).pdf(xgrid)\n",
    "\n",
    "histogram, bins = np.histogram(x, bins=xgrid, normed=True)\n",
    "bin_centers = 0.5*(bins[1:] + bins[:-1])\n",
    "truepdf = stats.norm.pdf(bin_centers)\n",
    "\n",
    "grid = GridSearchCV(KernelDensity(),\n",
    "                    {'bandwidth': np.linspace(0.1, 1.0, 30)},\n",
    "                    cv=5) \n",
    "grid.fit(x[:, None])\n",
    "print(grid.best_params_)\n",
    "kde = grid.best_estimator_\n",
    "pdf = np.exp(kde.score_samples(xgrid[:, None]))\n",
    "\n",
    "kde = stats.gaussian_kde(x, bw_method='silverman')\n",
    "\n",
    "fig, ax = plt.subplots(figsize=(10, 6))\n",
    "ax.plot(xgrid, pdf, 'r-', label='Cross-validation')\n",
    "ax.plot(bin_centers, truepdf, 'b-', label='True pdf')\n",
    "ax.plot(xgrid, kde(xgrid), 'g--', label=\"Silverman's Rule\")\n",
    "#ax.hist(x_grid, 30, fc='gray', histtype='stepfilled', alpha=0.3)\n"
   ]
  },
  {
   "cell_type": "code",
   "execution_count": null,
   "metadata": {},
   "outputs": [],
   "source": []
  }
 ],
 "metadata": {
  "kernelspec": {
   "display_name": "Python 3",
   "language": "python",
   "name": "python3"
  },
  "language_info": {
   "codemirror_mode": {
    "name": "ipython",
    "version": 3
   },
   "file_extension": ".py",
   "mimetype": "text/x-python",
   "name": "python",
   "nbconvert_exporter": "python",
   "pygments_lexer": "ipython3",
   "version": "3.6.5rc1"
  }
 },
 "nbformat": 4,
 "nbformat_minor": 2
}
